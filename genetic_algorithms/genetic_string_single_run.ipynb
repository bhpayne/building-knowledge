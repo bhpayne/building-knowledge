{
 "cells": [
  {
   "cell_type": "markdown",
   "metadata": {},
   "source": [
    "Genetic Algorithms with Python\n",
    "\n",
    "https://www.createspace.com/6708019\n",
    "    \n",
    "https://github.com/handcraftsman/GeneticAlgorithmsWithPython"
   ]
  },
  {
   "cell_type": "code",
   "execution_count": 1,
   "metadata": {
    "collapsed": false
   },
   "outputs": [
    {
     "name": "stdout",
     "output_type": "stream",
     "text": [
      "ABCDEFGHIJKLMNOPQRSTUVWXYZ\n"
     ]
    }
   ],
   "source": [
    "geneset = \"\".join([chr(x+65) for x in range(26)])\n",
    "print(geneset)"
   ]
  },
  {
   "cell_type": "code",
   "execution_count": 2,
   "metadata": {
    "collapsed": false
   },
   "outputs": [
    {
     "name": "stdout",
     "output_type": "stream",
     "text": [
      "parent = TNHSB\n"
     ]
    }
   ],
   "source": [
    "import random\n",
    "\n",
    "def generate_parent(length):\n",
    "    genes=[]\n",
    "    while len(genes)<length:\n",
    "        sample_size = min(length-len(genes),len(geneset))\n",
    "        genes.extend(random.sample(geneset,sample_size))\n",
    "    return ''.join(genes)\n",
    "\n",
    "par=generate_parent(5)\n",
    "print(\"parent = \"+par)"
   ]
  },
  {
   "cell_type": "code",
   "execution_count": 3,
   "metadata": {
    "collapsed": true
   },
   "outputs": [],
   "source": [
    "target=\"ABCDEJIHGFKLMNOTSRQPUVWXYZ\""
   ]
  },
  {
   "cell_type": "code",
   "execution_count": 4,
   "metadata": {
    "collapsed": true
   },
   "outputs": [],
   "source": [
    "def get_fitness(guess):\n",
    "    #print zip(target,guess)\n",
    "    #print sum(1 for expected,actual in zip(target,guess)\n",
    "                  #if expected == actual)\n",
    "    return sum(1 for expected,actual in zip(target,guess)\n",
    "                  if expected == actual)\n"
   ]
  },
  {
   "cell_type": "code",
   "execution_count": 5,
   "metadata": {
    "collapsed": true
   },
   "outputs": [],
   "source": [
    "def mutate(parent):\n",
    "    index = random.randrange(0,len(parent))\n",
    "    child_genes = list(parent)\n",
    "    new_gene,alternate = random.sample(geneset,2)\n",
    "    #print new_gene,alternate\n",
    "    child_genes[index] = alternate                 if new_gene == child_genes[index]                else new_gene\n",
    "    return ''.join(child_genes)"
   ]
  },
  {
   "cell_type": "code",
   "execution_count": 6,
   "metadata": {
    "collapsed": false
   },
   "outputs": [],
   "source": [
    "import datetime\n",
    "start_time = datetime.datetime.now()\n",
    "def display(guess):\n",
    "    time_diff = datetime.datetime.now() - start_time\n",
    "    fitness = get_fitness(guess)\n",
    "    print \"{}\\t{}\\t{}\".format(guess,time_diff,fitness)"
   ]
  },
  {
   "cell_type": "code",
   "execution_count": 7,
   "metadata": {
    "collapsed": false
   },
   "outputs": [
    {
     "name": "stdout",
     "output_type": "stream",
     "text": [
      "starting sequence = QMPRIDSYEXNFTJAHUKLOGZBWCV\n"
     ]
    }
   ],
   "source": [
    "random.seed()\n",
    "best_parent=generate_parent(len(target))\n",
    "print(\"starting sequence = \"+best_parent)"
   ]
  },
  {
   "cell_type": "code",
   "execution_count": 8,
   "metadata": {
    "collapsed": false
   },
   "outputs": [
    {
     "name": "stdout",
     "output_type": "stream",
     "text": [
      "starting fitness = 0\n"
     ]
    }
   ],
   "source": [
    "best_fitness= get_fitness(best_parent)\n",
    "print(\"starting fitness = \"+str(best_fitness))"
   ]
  },
  {
   "cell_type": "code",
   "execution_count": 9,
   "metadata": {
    "collapsed": false
   },
   "outputs": [
    {
     "name": "stdout",
     "output_type": "stream",
     "text": [
      "QMPRIDSYEXNFTJAHUKLOGZBWCV\t0:00:00.035798\t0\n"
     ]
    }
   ],
   "source": [
    "display(best_parent)"
   ]
  },
  {
   "cell_type": "code",
   "execution_count": 10,
   "metadata": {
    "collapsed": false
   },
   "outputs": [
    {
     "name": "stdout",
     "output_type": "stream",
     "text": [
      "number of failed mutations = 24\n",
      "QMPRIDSYEXNFTJAHUKLOGZWWCV\t0:00:00.054537\t1\n",
      "number of failed mutations = 4\n",
      "QMPRIDSYEXNFTJAHUKLOGZWWCZ\t0:00:00.054792\t2\n",
      "number of failed mutations = 79\n",
      "QMPRIDSYEXNFTJAHUKLPGZWWCZ\t0:00:00.058188\t3\n",
      "number of failed mutations = 61\n",
      "QMPRIDSYEXNFTJOHUKLPGZWWCZ\t0:00:00.063046\t4\n",
      "number of failed mutations = 21\n",
      "QMPDIDSYEXNFTJOHUKLPGZWWCZ\t0:00:00.064029\t5\n",
      "number of failed mutations = 62\n",
      "QMPDIDSHEXNFTJOHUKLPGZWWCZ\t0:00:00.066228\t6\n",
      "number of failed mutations = 30\n",
      "QMPDIDSHEXNFTJOHUKQPGZWWCZ\t0:00:00.067545\t7\n",
      "number of failed mutations = 17\n",
      "QMPDIDSHEXNFTJOHUKQPUZWWCZ\t0:00:00.068312\t8\n",
      "number of failed mutations = 9\n",
      "QMPDIDSHGXNFTJOHUKQPUZWWCZ\t0:00:00.068749\t9\n",
      "number of failed mutations = 26\n",
      "AMPDIDSHGXNFTJOHUKQPUZWWCZ\t0:00:00.069712\t10\n",
      "number of failed mutations = 32\n",
      "AMPDIDSHGXNFTNOHUKQPUZWWCZ\t0:00:00.070903\t11\n",
      "number of failed mutations = 63\n",
      "AMPDIDSHGXNFTNOHURQPUZWWCZ\t0:00:00.073159\t12\n",
      "number of failed mutations = 14\n",
      "AMPDIDSHGXNFTNOHSRQPUZWWCZ\t0:00:00.073798\t13\n",
      "number of failed mutations = 23\n",
      "AMPDIDSHGXNFTNOHSRQPUVWWCZ\t0:00:00.074661\t14\n",
      "number of failed mutations = 111\n",
      "AMPDIJSHGXNFTNOHSRQPUVWWCZ\t0:00:00.078725\t15\n",
      "number of failed mutations = 60\n",
      "AMCDIJSHGXNFTNOHSRQPUVWWCZ\t0:00:00.080866\t16\n",
      "number of failed mutations = 238\n",
      "AMCDIJIHGXNFTNOHSRQPUVWWCZ\t0:00:00.100478\t17\n",
      "number of failed mutations = 39\n",
      "AMCDIJIHGXNFMNOHSRQPUVWWCZ\t0:00:00.102534\t18\n",
      "number of failed mutations = 7\n",
      "AMCDIJIHGFNFMNOHSRQPUVWWCZ\t0:00:00.102889\t19\n",
      "number of failed mutations = 81\n",
      "AMCDIJIHGFNLMNOHSRQPUVWWCZ\t0:00:00.106309\t20\n",
      "number of failed mutations = 82\n",
      "AMCDEJIHGFNLMNOHSRQPUVWWCZ\t0:00:00.108723\t21\n",
      "number of failed mutations = 540\n",
      "AMCDEJIHGFKLMNOHSRQPUVWWCZ\t0:00:00.123599\t22\n",
      "number of failed mutations = 454\n",
      "ABCDEJIHGFKLMNOHSRQPUVWWCZ\t0:00:00.137201\t23\n",
      "number of failed mutations = 41\n",
      "ABCDEJIHGFKLMNOHSRQPUVWXCZ\t0:00:00.138305\t24\n",
      "number of failed mutations = 718\n",
      "ABCDEJIHGFKLMNOHSRQPUVWXYZ\t0:00:00.154033\t25\n",
      "number of failed mutations = 344\n",
      "ABCDEJIHGFKLMNOTSRQPUVWXYZ\t0:00:00.162508\t26\n"
     ]
    }
   ],
   "source": [
    "number_of_failed_mutations=0\n",
    "while True:\n",
    "    child = mutate(best_parent)\n",
    "    number_of_failed_mutations += 1\n",
    "    child_fitness = get_fitness(child)\n",
    "    if best_fitness >= child_fitness:\n",
    "        continue\n",
    "    print(\"number of failed mutations = \"+str(number_of_failed_mutations))\n",
    "    number_of_failed_mutations=0\n",
    "    display(child)\n",
    "    if child_fitness >= len(best_parent): # there exists an optimal solution; stop when it's found\n",
    "        break\n",
    "    best_fitness = child_fitness\n",
    "    best_parent = child"
   ]
  }
 ],
 "metadata": {
  "kernelspec": {
   "display_name": "Python 2",
   "language": "python",
   "name": "python2"
  },
  "language_info": {
   "codemirror_mode": {
    "name": "ipython",
    "version": 2
   },
   "file_extension": ".py",
   "mimetype": "text/x-python",
   "name": "python",
   "nbconvert_exporter": "python",
   "pygments_lexer": "ipython2",
   "version": "2.7.10"
  }
 },
 "nbformat": 4,
 "nbformat_minor": 0
}
