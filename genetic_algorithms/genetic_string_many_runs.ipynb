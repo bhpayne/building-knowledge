{
 "cells": [
  {
   "cell_type": "markdown",
   "metadata": {},
   "source": [
    "Genetic Algorithms with Python\n",
    "\n",
    "https://www.createspace.com/6708019\n",
    "    \n",
    "https://github.com/handcraftsman/GeneticAlgorithmsWithPython"
   ]
  },
  {
   "cell_type": "code",
   "execution_count": 13,
   "metadata": {
    "collapsed": false
   },
   "outputs": [
    {
     "name": "stdout",
     "output_type": "stream",
     "text": [
      "ABCDEFGHIJKLMNOPQRSTUVWXYZ\n"
     ]
    }
   ],
   "source": [
    "geneset = \"\".join([chr(x+65) for x in range(26)])\n",
    "print(geneset)"
   ]
  },
  {
   "cell_type": "code",
   "execution_count": 14,
   "metadata": {
    "collapsed": false
   },
   "outputs": [
    {
     "name": "stdout",
     "output_type": "stream",
     "text": [
      "parent = AILPV\n"
     ]
    }
   ],
   "source": [
    "import random\n",
    "\n",
    "def generate_parent(length):\n",
    "    genes=[]\n",
    "    while len(genes)<length:\n",
    "        sample_size = min(length-len(genes),len(geneset))\n",
    "        genes.extend(random.sample(geneset,sample_size))\n",
    "    return ''.join(genes)\n",
    "\n",
    "par=generate_parent(5)\n",
    "print(\"parent = \"+par)"
   ]
  },
  {
   "cell_type": "code",
   "execution_count": 15,
   "metadata": {
    "collapsed": true
   },
   "outputs": [],
   "source": [
    "target=\"ABCDEJIHGFKLMNOTSRQPUVWXYZ\""
   ]
  },
  {
   "cell_type": "code",
   "execution_count": 16,
   "metadata": {
    "collapsed": true
   },
   "outputs": [],
   "source": [
    "def get_fitness(guess):\n",
    "    #print zip(target,guess)\n",
    "    #print sum(1 for expected,actual in zip(target,guess)\n",
    "                  #if expected == actual)\n",
    "    return sum(1 for expected,actual in zip(target,guess)\n",
    "                  if expected == actual)\n"
   ]
  },
  {
   "cell_type": "code",
   "execution_count": 17,
   "metadata": {
    "collapsed": true
   },
   "outputs": [],
   "source": [
    "def mutate(parent):\n",
    "    index = random.randrange(0,len(parent))\n",
    "    child_genes = list(parent)\n",
    "    new_gene,alternate = random.sample(geneset,2)\n",
    "    #print new_gene,alternate\n",
    "    child_genes[index] = alternate                 if new_gene == child_genes[index]                else new_gene\n",
    "    return ''.join(child_genes)"
   ]
  },
  {
   "cell_type": "code",
   "execution_count": 18,
   "metadata": {
    "collapsed": false
   },
   "outputs": [],
   "source": [
    "import datetime\n",
    "start_time = datetime.datetime.now()\n",
    "def display(guess):\n",
    "    time_diff = datetime.datetime.now() - start_time\n",
    "    fitness = get_fitness(guess)\n",
    "    print \"{}\\t{}\\t{}\".format(guess,time_diff,fitness)"
   ]
  },
  {
   "cell_type": "code",
   "execution_count": 19,
   "metadata": {
    "collapsed": false
   },
   "outputs": [],
   "source": [
    "def find_ordered_string():\n",
    "    ary_of_failure_count=[]\n",
    "    number_of_failed_mutations=0\n",
    "\n",
    "    random.seed()\n",
    "    best_parent=generate_parent(len(target))\n",
    "    #print(\"starting sequence = \"+best_parent)\n",
    "\n",
    "    best_fitness= get_fitness(best_parent)\n",
    "    #print(\"starting fitness = \"+str(best_fitness))\n",
    "\n",
    "    while True:\n",
    "        child = mutate(best_parent)\n",
    "        number_of_failed_mutations += 1\n",
    "        child_fitness = get_fitness(child)\n",
    "        if best_fitness >= child_fitness:\n",
    "                continue\n",
    "        #print(\"number of failed mutations = \"+str(number_of_failed_mutations))\n",
    "        ary_of_failure_count.append(number_of_failed_mutations)\n",
    "        number_of_failed_mutations=0\n",
    "        #display(child)\n",
    "        if child_fitness >= len(best_parent): # there exists an optimal solution; stop when it's found\n",
    "                break\n",
    "        best_fitness = child_fitness\n",
    "        best_parent = child\n",
    "    return ary_of_failure_count"
   ]
  },
  {
   "cell_type": "code",
   "execution_count": 27,
   "metadata": {
    "collapsed": false
   },
   "outputs": [
    {
     "name": "stdout",
     "output_type": "stream",
     "text": [
      "[17.863636363636363, 23.59090909090909, 30.977272727272727, 28.5, 29.613636363636363, 22.636363636363637, 49.45454545454545, 29.954545454545453, 43.09090909090909, 51.18181818181818, 56.54545454545455, 38.81818181818182, 47.54545454545455, 36.34090909090909, 56.15909090909091, 48.81818181818182, 71.61363636363636, 83.31818181818181, 68.02272727272727, 100.79545454545455, 100.68181818181819, 147.8409090909091, 178.27272727272728, 166.1590909090909, 320.6136363636364, 587.4545454545455]\n"
     ]
    }
   ],
   "source": [
    "from operator import add\n",
    "summed_ary=[0 for x in range(26)]\n",
    "num_iter=0\n",
    "for indx in range(100):\n",
    "    ary_of_failure_count=find_ordered_string()\n",
    "    if (len(ary_of_failure_count)==26):\n",
    "        num_iter += 1\n",
    "        summed_ary = map(add, summed_ary, ary_of_failure_count)\n",
    "\n",
    "average_values = [x / (num_iter*1.0) for x in summed_ary]\n",
    "\n",
    "print(average_values)"
   ]
  },
  {
   "cell_type": "code",
   "execution_count": 28,
   "metadata": {
    "collapsed": false
   },
   "outputs": [],
   "source": [
    "import matplotlib.pyplot as plt\n",
    "plt.plot(average_values)\n",
    "plt.ylabel('generation')\n",
    "plt.xlabel('number of mutations')\n",
    "plt.show()"
   ]
  }
 ],
 "metadata": {
  "kernelspec": {
   "display_name": "Python 2",
   "language": "python",
   "name": "python2"
  },
  "language_info": {
   "codemirror_mode": {
    "name": "ipython",
    "version": 2
   },
   "file_extension": ".py",
   "mimetype": "text/x-python",
   "name": "python",
   "nbconvert_exporter": "python",
   "pygments_lexer": "ipython2",
   "version": "2.7.10"
  }
 },
 "nbformat": 4,
 "nbformat_minor": 0
}
