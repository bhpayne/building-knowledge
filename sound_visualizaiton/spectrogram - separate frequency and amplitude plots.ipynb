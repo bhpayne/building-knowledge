{
 "cells": [
  {
   "cell_type": "markdown",
   "metadata": {},
   "source": [
    "https://stackoverflow.com/questions/43284049/spectrogram-of-a-wave-file"
   ]
  },
  {
   "cell_type": "code",
   "execution_count": 1,
   "metadata": {
    "collapsed": true
   },
   "outputs": [],
   "source": [
    "import numpy\n",
    "import matplotlib.pyplot as plt\n",
    "import pylab\n",
    "from scipy.io import wavfile\n",
    "from scipy.fftpack import fft"
   ]
  },
  {
   "cell_type": "code",
   "execution_count": 2,
   "metadata": {
    "collapsed": true
   },
   "outputs": [],
   "source": [
    "myAudio = \"57007r.wav\""
   ]
  },
  {
   "cell_type": "code",
   "execution_count": 3,
   "metadata": {
    "collapsed": false
   },
   "outputs": [
    {
     "name": "stderr",
     "output_type": "stream",
     "text": [
      "/System/Library/Frameworks/Python.framework/Versions/2.7/Extras/lib/python/scipy/io/wavfile.py:172: WavFileWarning: Chunk (non-data) not understood, skipping it.\n",
      "  WavFileWarning)\n"
     ]
    }
   ],
   "source": [
    "#Read file and get sampling freq [ usually 44100 Hz ]  and sound object\n",
    "samplingFreq, mySound = wavfile.read(myAudio)"
   ]
  },
  {
   "cell_type": "code",
   "execution_count": 4,
   "metadata": {
    "collapsed": true
   },
   "outputs": [],
   "source": [
    "#Check if wave file is 16bit or 32 bit. 24bit is not supported\n",
    "mySoundDataType = mySound.dtype"
   ]
  },
  {
   "cell_type": "code",
   "execution_count": 5,
   "metadata": {
    "collapsed": true
   },
   "outputs": [],
   "source": [
    "#We can convert our sound array to floating point values ranging from -1 to 1 as follows\n",
    "mySound = mySound / (2.**15)"
   ]
  },
  {
   "cell_type": "code",
   "execution_count": 6,
   "metadata": {
    "collapsed": true
   },
   "outputs": [],
   "source": [
    "#Check sample points and sound channel for duel channel(5060, 2) or  (5060, ) for mono channel\n",
    "mySoundShape = mySound.shape\n",
    "samplePoints = float(mySound.shape[0])"
   ]
  },
  {
   "cell_type": "code",
   "execution_count": 7,
   "metadata": {
    "collapsed": true
   },
   "outputs": [],
   "source": [
    "#Get duration of sound file\n",
    "signalDuration =  mySound.shape[0] / samplingFreq"
   ]
  },
  {
   "cell_type": "code",
   "execution_count": 8,
   "metadata": {
    "collapsed": false
   },
   "outputs": [
    {
     "name": "stdout",
     "output_type": "stream",
     "text": [
      "5390336\n"
     ]
    }
   ],
   "source": [
    "#If two channels, then select only one channel\n",
    "print(len(mySound))\n",
    "#mySoundOneChannel = mySound[:,0]\n",
    "mySoundOneChannel = mySound"
   ]
  },
  {
   "cell_type": "code",
   "execution_count": 9,
   "metadata": {
    "collapsed": true
   },
   "outputs": [],
   "source": [
    "#Plotting the tone\n",
    "\n",
    "# We can represent sound by plotting the pressure values against time axis.\n",
    "#Create an array of sample point in one dimension\n",
    "timeArray = numpy.arange(0, samplePoints, 1)\n",
    "\n",
    "#\n",
    "timeArray = timeArray / samplingFreq\n",
    "\n",
    "#Scale to milliSeconds\n",
    "timeArray = timeArray * 1000"
   ]
  },
  {
   "cell_type": "code",
   "execution_count": 10,
   "metadata": {
    "collapsed": true
   },
   "outputs": [],
   "source": [
    "#Plot the tone\n",
    "plt.plot(timeArray, mySoundOneChannel, color='G')\n",
    "plt.xlabel('Time (ms)')\n",
    "plt.ylabel('Amplitude')\n",
    "plt.show()"
   ]
  },
  {
   "cell_type": "code",
   "execution_count": 11,
   "metadata": {
    "collapsed": false
   },
   "outputs": [
    {
     "name": "stdout",
     "output_type": "stream",
     "text": [
      "2695169.0\n"
     ]
    }
   ],
   "source": [
    "#Plot frequency content\n",
    "#We can get frquency from amplitude and time using FFT , Fast Fourier Transform algorithm\n",
    "\n",
    "#Get length of mySound object array\n",
    "mySoundLength = len(mySound)\n",
    "\n",
    "#Take the Fourier transformation on given sample point \n",
    "#fftArray = fft(mySound)\n",
    "fftArray = fft(mySoundOneChannel)\n",
    "\n",
    "numUniquePoints = numpy.ceil((mySoundLength + 1) / 2.0)\n",
    "print(numUniquePoints)\n",
    "fftArray = fftArray[0:int(numUniquePoints)]\n",
    "\n",
    "#FFT contains both magnitude and phase and given in complex numbers in real + imaginary parts (a + ib) format.\n",
    "#By taking absolute value , we get only real part\n",
    "\n",
    "fftArray = abs(fftArray)\n",
    "\n",
    "#Scale the fft array by length of sample points so that magnitude does not depend on\n",
    "#the length of the signal or on its sampling frequency\n",
    "\n",
    "fftArray = fftArray / float(mySoundLength)\n",
    "\n",
    "#FFT has both positive and negative information. Square to get positive only\n",
    "fftArray = fftArray **2\n",
    "\n",
    "#Multiply by two (research why?)\n",
    "#Odd NFFT excludes Nyquist point\n",
    "if mySoundLength % 2 > 0: #we've got odd number of points in fft\n",
    "    fftArray[1:len(fftArray)] = fftArray[1:len(fftArray)] * 2\n",
    "\n",
    "else: #We've got even number of points in fft\n",
    "    fftArray[1:len(fftArray) -1] = fftArray[1:len(fftArray) -1] * 2  \n",
    "\n",
    "freqArray = numpy.arange(0, numUniquePoints, 1.0) * (samplingFreq / mySoundLength)"
   ]
  },
  {
   "cell_type": "code",
   "execution_count": 12,
   "metadata": {
    "collapsed": true
   },
   "outputs": [],
   "source": [
    "#Plot the frequency\n",
    "plt.plot(freqArray/1000, 10 * numpy.log10 (fftArray), color='B')\n",
    "plt.xlabel('Frequency (Khz)')\n",
    "plt.ylabel('Power (dB)')\n",
    "plt.show()"
   ]
  },
  {
   "cell_type": "code",
   "execution_count": 13,
   "metadata": {
    "collapsed": false
   },
   "outputs": [
    {
     "name": "stdout",
     "output_type": "stream",
     "text": [
      "freqArrayLength = 2695169\n"
     ]
    }
   ],
   "source": [
    "#Get List of element in frequency array\n",
    "#print freqArray.dtype.type\n",
    "freqArrayLength = len(freqArray)\n",
    "print \"freqArrayLength =\", freqArrayLength\n",
    "numpy.savetxt(\"freqData.txt\", freqArray, fmt='%6.2f')"
   ]
  },
  {
   "cell_type": "code",
   "execution_count": 14,
   "metadata": {
    "collapsed": false
   },
   "outputs": [
    {
     "name": "stdout",
     "output_type": "stream",
     "text": [
      "fftArray length = 2695169\n"
     ]
    }
   ],
   "source": [
    "#Print FFtarray information\n",
    "print \"fftArray length =\", len(fftArray)\n",
    "numpy.savetxt(\"fftData.txt\", fftArray)"
   ]
  }
 ],
 "metadata": {
  "kernelspec": {
   "display_name": "Python 2",
   "language": "python",
   "name": "python2"
  },
  "language_info": {
   "codemirror_mode": {
    "name": "ipython",
    "version": 2
   },
   "file_extension": ".py",
   "mimetype": "text/x-python",
   "name": "python",
   "nbconvert_exporter": "python",
   "pygments_lexer": "ipython2",
   "version": "2.7.10"
  }
 },
 "nbformat": 4,
 "nbformat_minor": 0
}
